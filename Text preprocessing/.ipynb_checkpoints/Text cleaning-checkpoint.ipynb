{
 "cells": [
  {
   "cell_type": "markdown",
   "id": "6c68ae0c",
   "metadata": {},
   "source": [
    "**File:** Text cleaning.ipynb <br>\n",
    "**Author:** Prem kumar Kamasani <br>\n",
    "**Date:** 05/21/2024 <br>\n",
    "**Description:** This python script shows the text cleaning techniques using NLKT library.\n",
    "<ol>\n",
    "    <li>Tokenization</li>\n",
    "            <li>POS tagging and stop words removal.</li>\n",
    "            <li>Stemming</li>\n",
    "            <li>Lemmatization</li>\n",
    " </ol>"
   ]
  },
  {
   "cell_type": "markdown",
   "id": "94fa17b9",
   "metadata": {},
   "source": [
    "## Section 1\n",
    "### Tokenization: \n",
    "<p> Breaking down a document or text into smaller units (tokens). </p>"
   ]
  },
  {
   "cell_type": "code",
   "execution_count": 2,
   "id": "021ff009",
   "metadata": {},
   "outputs": [],
   "source": [
    "import nltk"
   ]
  },
  {
   "cell_type": "code",
   "execution_count": 3,
   "id": "b2797e21",
   "metadata": {},
   "outputs": [
    {
     "name": "stderr",
     "output_type": "stream",
     "text": [
      "[nltk_data] Downloading package punkt to\n",
      "[nltk_data]     C:\\Users\\premk\\AppData\\Roaming\\nltk_data...\n",
      "[nltk_data]   Unzipping tokenizers\\punkt.zip.\n"
     ]
    },
    {
     "data": {
      "text/plain": [
       "True"
      ]
     },
     "execution_count": 3,
     "metadata": {},
     "output_type": "execute_result"
    }
   ],
   "source": [
    "nltk.download('punkt')"
   ]
  },
  {
   "cell_type": "code",
   "execution_count": 25,
   "id": "d9c75cd3",
   "metadata": {},
   "outputs": [],
   "source": [
    "text = \"Natural language processing (NLP) is a subfield of artificial intelligence (AI) that allows computers to understand and process human language, both spoken and written. NLP has been around for over 50 years and has many real-world applications, including: Search engines, Business intelligence, Medical research, Language translation, and Chatbots.\""
   ]
  },
  {
   "cell_type": "code",
   "execution_count": 26,
   "id": "51f3b359",
   "metadata": {},
   "outputs": [],
   "source": [
    "tokens = nltk.word_tokenize(text)"
   ]
  },
  {
   "cell_type": "code",
   "execution_count": 27,
   "id": "18514820",
   "metadata": {},
   "outputs": [
    {
     "data": {
      "text/plain": [
       "['Natural',\n",
       " 'language',\n",
       " 'processing',\n",
       " '(',\n",
       " 'NLP',\n",
       " ')',\n",
       " 'is',\n",
       " 'a',\n",
       " 'subfield',\n",
       " 'of',\n",
       " 'artificial',\n",
       " 'intelligence',\n",
       " '(',\n",
       " 'AI',\n",
       " ')',\n",
       " 'that',\n",
       " 'allows',\n",
       " 'computers',\n",
       " 'to',\n",
       " 'understand',\n",
       " 'and',\n",
       " 'process',\n",
       " 'human',\n",
       " 'language',\n",
       " ',',\n",
       " 'both',\n",
       " 'spoken',\n",
       " 'and',\n",
       " 'written',\n",
       " '.',\n",
       " 'NLP',\n",
       " 'has',\n",
       " 'been',\n",
       " 'around',\n",
       " 'for',\n",
       " 'over',\n",
       " '50',\n",
       " 'years',\n",
       " 'and',\n",
       " 'has',\n",
       " 'many',\n",
       " 'real-world',\n",
       " 'applications',\n",
       " ',',\n",
       " 'including',\n",
       " ':',\n",
       " 'Search',\n",
       " 'engines',\n",
       " ',',\n",
       " 'Business',\n",
       " 'intelligence',\n",
       " ',',\n",
       " 'Medical',\n",
       " 'research',\n",
       " ',',\n",
       " 'Language',\n",
       " 'translation',\n",
       " ',',\n",
       " 'and',\n",
       " 'Chatbots',\n",
       " '.']"
      ]
     },
     "execution_count": 27,
     "metadata": {},
     "output_type": "execute_result"
    }
   ],
   "source": [
    "tokens"
   ]
  },
  {
   "cell_type": "code",
   "execution_count": 28,
   "id": "3f764784",
   "metadata": {},
   "outputs": [],
   "source": [
    "# Above mentioned approch considers punctuations as a token.\n",
    "# This approch will remove punctuations.\n",
    "from nltk.tokenize import RegexpTokenizer\n",
    "\n",
    "tokenizer = RegexpTokenizer(r'\\w+')\n",
    "tokens = tokenizer.tokenize(text)"
   ]
  },
  {
   "cell_type": "code",
   "execution_count": 29,
   "id": "7bb1e8aa",
   "metadata": {},
   "outputs": [
    {
     "name": "stdout",
     "output_type": "stream",
     "text": [
      "['Natural', 'language', 'processing', 'NLP', 'is', 'a', 'subfield', 'of', 'artificial', 'intelligence', 'AI', 'that', 'allows', 'computers', 'to', 'understand', 'and', 'process', 'human', 'language', 'both', 'spoken', 'and', 'written', 'NLP', 'has', 'been', 'around', 'for', 'over', '50', 'years', 'and', 'has', 'many', 'real', 'world', 'applications', 'including', 'Search', 'engines', 'Business', 'intelligence', 'Medical', 'research', 'Language', 'translation', 'and', 'Chatbots']\n"
     ]
    }
   ],
   "source": [
    "print(tokens)"
   ]
  },
  {
   "cell_type": "code",
   "execution_count": 30,
   "id": "fcd988fd",
   "metadata": {},
   "outputs": [],
   "source": [
    "# Bigrams: A pair of consecutive tokens.\n",
    "bigram_tokens = list(nltk.bigrams(tokens))"
   ]
  },
  {
   "cell_type": "code",
   "execution_count": 31,
   "id": "3995dde1",
   "metadata": {},
   "outputs": [
    {
     "data": {
      "text/plain": [
       "[('Natural', 'language'),\n",
       " ('language', 'processing'),\n",
       " ('processing', 'NLP'),\n",
       " ('NLP', 'is'),\n",
       " ('is', 'a'),\n",
       " ('a', 'subfield'),\n",
       " ('subfield', 'of'),\n",
       " ('of', 'artificial'),\n",
       " ('artificial', 'intelligence'),\n",
       " ('intelligence', 'AI'),\n",
       " ('AI', 'that'),\n",
       " ('that', 'allows'),\n",
       " ('allows', 'computers'),\n",
       " ('computers', 'to'),\n",
       " ('to', 'understand'),\n",
       " ('understand', 'and'),\n",
       " ('and', 'process'),\n",
       " ('process', 'human'),\n",
       " ('human', 'language'),\n",
       " ('language', 'both'),\n",
       " ('both', 'spoken'),\n",
       " ('spoken', 'and'),\n",
       " ('and', 'written'),\n",
       " ('written', 'NLP'),\n",
       " ('NLP', 'has'),\n",
       " ('has', 'been'),\n",
       " ('been', 'around'),\n",
       " ('around', 'for'),\n",
       " ('for', 'over'),\n",
       " ('over', '50'),\n",
       " ('50', 'years'),\n",
       " ('years', 'and'),\n",
       " ('and', 'has'),\n",
       " ('has', 'many'),\n",
       " ('many', 'real'),\n",
       " ('real', 'world'),\n",
       " ('world', 'applications'),\n",
       " ('applications', 'including'),\n",
       " ('including', 'Search'),\n",
       " ('Search', 'engines'),\n",
       " ('engines', 'Business'),\n",
       " ('Business', 'intelligence'),\n",
       " ('intelligence', 'Medical'),\n",
       " ('Medical', 'research'),\n",
       " ('research', 'Language'),\n",
       " ('Language', 'translation'),\n",
       " ('translation', 'and'),\n",
       " ('and', 'Chatbots')]"
      ]
     },
     "execution_count": 31,
     "metadata": {},
     "output_type": "execute_result"
    }
   ],
   "source": [
    "bigram_tokens"
   ]
  },
  {
   "cell_type": "code",
   "execution_count": 32,
   "id": "26f9963a",
   "metadata": {},
   "outputs": [],
   "source": [
    "# Trigrams: A group of three consecutive tokens.\n",
    "trigram_tokens = list(nltk.trigrams(tokens))"
   ]
  },
  {
   "cell_type": "code",
   "execution_count": 33,
   "id": "1b9adf3e",
   "metadata": {},
   "outputs": [
    {
     "data": {
      "text/plain": [
       "[('Natural', 'language', 'processing'),\n",
       " ('language', 'processing', 'NLP'),\n",
       " ('processing', 'NLP', 'is'),\n",
       " ('NLP', 'is', 'a'),\n",
       " ('is', 'a', 'subfield'),\n",
       " ('a', 'subfield', 'of'),\n",
       " ('subfield', 'of', 'artificial'),\n",
       " ('of', 'artificial', 'intelligence'),\n",
       " ('artificial', 'intelligence', 'AI'),\n",
       " ('intelligence', 'AI', 'that'),\n",
       " ('AI', 'that', 'allows'),\n",
       " ('that', 'allows', 'computers'),\n",
       " ('allows', 'computers', 'to'),\n",
       " ('computers', 'to', 'understand'),\n",
       " ('to', 'understand', 'and'),\n",
       " ('understand', 'and', 'process'),\n",
       " ('and', 'process', 'human'),\n",
       " ('process', 'human', 'language'),\n",
       " ('human', 'language', 'both'),\n",
       " ('language', 'both', 'spoken'),\n",
       " ('both', 'spoken', 'and'),\n",
       " ('spoken', 'and', 'written'),\n",
       " ('and', 'written', 'NLP'),\n",
       " ('written', 'NLP', 'has'),\n",
       " ('NLP', 'has', 'been'),\n",
       " ('has', 'been', 'around'),\n",
       " ('been', 'around', 'for'),\n",
       " ('around', 'for', 'over'),\n",
       " ('for', 'over', '50'),\n",
       " ('over', '50', 'years'),\n",
       " ('50', 'years', 'and'),\n",
       " ('years', 'and', 'has'),\n",
       " ('and', 'has', 'many'),\n",
       " ('has', 'many', 'real'),\n",
       " ('many', 'real', 'world'),\n",
       " ('real', 'world', 'applications'),\n",
       " ('world', 'applications', 'including'),\n",
       " ('applications', 'including', 'Search'),\n",
       " ('including', 'Search', 'engines'),\n",
       " ('Search', 'engines', 'Business'),\n",
       " ('engines', 'Business', 'intelligence'),\n",
       " ('Business', 'intelligence', 'Medical'),\n",
       " ('intelligence', 'Medical', 'research'),\n",
       " ('Medical', 'research', 'Language'),\n",
       " ('research', 'Language', 'translation'),\n",
       " ('Language', 'translation', 'and'),\n",
       " ('translation', 'and', 'Chatbots')]"
      ]
     },
     "execution_count": 33,
     "metadata": {},
     "output_type": "execute_result"
    }
   ],
   "source": [
    "trigram_tokens"
   ]
  },
  {
   "cell_type": "code",
   "execution_count": 34,
   "id": "b366842e",
   "metadata": {},
   "outputs": [],
   "source": [
    "# ngrams: A group of n consecutive tokens.\n",
    "ngram_tokens = list(nltk.ngrams(tokens, 4))"
   ]
  },
  {
   "cell_type": "code",
   "execution_count": 35,
   "id": "e14d415b",
   "metadata": {},
   "outputs": [
    {
     "data": {
      "text/plain": [
       "[('Natural', 'language', 'processing', 'NLP'),\n",
       " ('language', 'processing', 'NLP', 'is'),\n",
       " ('processing', 'NLP', 'is', 'a'),\n",
       " ('NLP', 'is', 'a', 'subfield'),\n",
       " ('is', 'a', 'subfield', 'of'),\n",
       " ('a', 'subfield', 'of', 'artificial'),\n",
       " ('subfield', 'of', 'artificial', 'intelligence'),\n",
       " ('of', 'artificial', 'intelligence', 'AI'),\n",
       " ('artificial', 'intelligence', 'AI', 'that'),\n",
       " ('intelligence', 'AI', 'that', 'allows'),\n",
       " ('AI', 'that', 'allows', 'computers'),\n",
       " ('that', 'allows', 'computers', 'to'),\n",
       " ('allows', 'computers', 'to', 'understand'),\n",
       " ('computers', 'to', 'understand', 'and'),\n",
       " ('to', 'understand', 'and', 'process'),\n",
       " ('understand', 'and', 'process', 'human'),\n",
       " ('and', 'process', 'human', 'language'),\n",
       " ('process', 'human', 'language', 'both'),\n",
       " ('human', 'language', 'both', 'spoken'),\n",
       " ('language', 'both', 'spoken', 'and'),\n",
       " ('both', 'spoken', 'and', 'written'),\n",
       " ('spoken', 'and', 'written', 'NLP'),\n",
       " ('and', 'written', 'NLP', 'has'),\n",
       " ('written', 'NLP', 'has', 'been'),\n",
       " ('NLP', 'has', 'been', 'around'),\n",
       " ('has', 'been', 'around', 'for'),\n",
       " ('been', 'around', 'for', 'over'),\n",
       " ('around', 'for', 'over', '50'),\n",
       " ('for', 'over', '50', 'years'),\n",
       " ('over', '50', 'years', 'and'),\n",
       " ('50', 'years', 'and', 'has'),\n",
       " ('years', 'and', 'has', 'many'),\n",
       " ('and', 'has', 'many', 'real'),\n",
       " ('has', 'many', 'real', 'world'),\n",
       " ('many', 'real', 'world', 'applications'),\n",
       " ('real', 'world', 'applications', 'including'),\n",
       " ('world', 'applications', 'including', 'Search'),\n",
       " ('applications', 'including', 'Search', 'engines'),\n",
       " ('including', 'Search', 'engines', 'Business'),\n",
       " ('Search', 'engines', 'Business', 'intelligence'),\n",
       " ('engines', 'Business', 'intelligence', 'Medical'),\n",
       " ('Business', 'intelligence', 'Medical', 'research'),\n",
       " ('intelligence', 'Medical', 'research', 'Language'),\n",
       " ('Medical', 'research', 'Language', 'translation'),\n",
       " ('research', 'Language', 'translation', 'and'),\n",
       " ('Language', 'translation', 'and', 'Chatbots')]"
      ]
     },
     "execution_count": 35,
     "metadata": {},
     "output_type": "execute_result"
    }
   ],
   "source": [
    "ngram_tokens"
   ]
  },
  {
   "cell_type": "markdown",
   "id": "ec35fb07",
   "metadata": {},
   "source": [
    "## Section 2\n",
    "### POS tagging\n",
    "<p> POS Tagging is the process of marking up a word in a text (corpus) as corresponding to a particular part of speech, based on its definition and its context.</p>\n",
    "\n",
    "### Stop words removal\n",
    "<p> Stop words are a set of commonly used words in a language. These are so commonly used, as they carry very little useful information. examples of stop words in English are, \"a\", \"the\", \"in\", \"on\", \"are\" </p>"
   ]
  },
  {
   "cell_type": "code",
   "execution_count": 36,
   "id": "25a6ad87",
   "metadata": {},
   "outputs": [
    {
     "name": "stderr",
     "output_type": "stream",
     "text": [
      "[nltk_data] Downloading package averaged_perceptron_tagger to\n",
      "[nltk_data]     C:\\Users\\premk\\AppData\\Roaming\\nltk_data...\n",
      "[nltk_data]   Unzipping taggers\\averaged_perceptron_tagger.zip.\n"
     ]
    },
    {
     "data": {
      "text/plain": [
       "True"
      ]
     },
     "execution_count": 36,
     "metadata": {},
     "output_type": "execute_result"
    }
   ],
   "source": [
    "nltk.download(\"averaged_perceptron_tagger\")"
   ]
  },
  {
   "cell_type": "code",
   "execution_count": 38,
   "id": "e212b77a",
   "metadata": {},
   "outputs": [
    {
     "name": "stdout",
     "output_type": "stream",
     "text": [
      "[('Natural', 'JJ')]\n",
      "[('language', 'NN')]\n",
      "[('processing', 'NN')]\n",
      "[('NLP', 'NN')]\n",
      "[('is', 'VBZ')]\n",
      "[('a', 'DT')]\n",
      "[('subfield', 'NN')]\n",
      "[('of', 'IN')]\n",
      "[('artificial', 'JJ')]\n",
      "[('intelligence', 'NN')]\n",
      "[('AI', 'NN')]\n",
      "[('that', 'IN')]\n",
      "[('allows', 'NNS')]\n",
      "[('computers', 'NNS')]\n",
      "[('to', 'TO')]\n",
      "[('understand', 'NN')]\n",
      "[('and', 'CC')]\n",
      "[('process', 'NN')]\n",
      "[('human', 'NN')]\n",
      "[('language', 'NN')]\n",
      "[('both', 'DT')]\n",
      "[('spoken', 'NN')]\n",
      "[('and', 'CC')]\n",
      "[('written', 'VBN')]\n",
      "[('NLP', 'NN')]\n",
      "[('has', 'VBZ')]\n",
      "[('been', 'VBN')]\n",
      "[('around', 'IN')]\n",
      "[('for', 'IN')]\n",
      "[('over', 'IN')]\n",
      "[('50', 'CD')]\n",
      "[('years', 'NNS')]\n",
      "[('and', 'CC')]\n",
      "[('has', 'VBZ')]\n",
      "[('many', 'JJ')]\n",
      "[('real', 'JJ')]\n",
      "[('world', 'NN')]\n",
      "[('applications', 'NNS')]\n",
      "[('including', 'VBG')]\n",
      "[('Search', 'NN')]\n",
      "[('engines', 'NNS')]\n",
      "[('Business', 'NN')]\n",
      "[('intelligence', 'NN')]\n",
      "[('Medical', 'JJ')]\n",
      "[('research', 'NN')]\n",
      "[('Language', 'NN')]\n",
      "[('translation', 'NN')]\n",
      "[('and', 'CC')]\n",
      "[('Chatbots', 'NNS')]\n"
     ]
    }
   ],
   "source": [
    "for token in tokens:\n",
    "    print(nltk.pos_tag([token]))"
   ]
  },
  {
   "cell_type": "code",
   "execution_count": 40,
   "id": "57bf088b",
   "metadata": {},
   "outputs": [
    {
     "name": "stderr",
     "output_type": "stream",
     "text": [
      "[nltk_data] Downloading package stopwords to\n",
      "[nltk_data]     C:\\Users\\premk\\AppData\\Roaming\\nltk_data...\n",
      "[nltk_data]   Unzipping corpora\\stopwords.zip.\n"
     ]
    },
    {
     "data": {
      "text/plain": [
       "True"
      ]
     },
     "execution_count": 40,
     "metadata": {},
     "output_type": "execute_result"
    }
   ],
   "source": [
    "nltk.download('stopwords')"
   ]
  },
  {
   "cell_type": "code",
   "execution_count": 41,
   "id": "35004bf5",
   "metadata": {},
   "outputs": [],
   "source": [
    "from nltk.corpus import stopwords\n",
    "stop_words = stopwords.words('english')"
   ]
  },
  {
   "cell_type": "code",
   "execution_count": 43,
   "id": "11a87d2c",
   "metadata": {},
   "outputs": [],
   "source": [
    "filtered_data = [w for w in tokens if not w in stop_words]"
   ]
  },
  {
   "cell_type": "code",
   "execution_count": 44,
   "id": "9119cbcd",
   "metadata": {},
   "outputs": [
    {
     "data": {
      "text/plain": [
       "['Natural',\n",
       " 'language',\n",
       " 'processing',\n",
       " 'NLP',\n",
       " 'subfield',\n",
       " 'artificial',\n",
       " 'intelligence',\n",
       " 'AI',\n",
       " 'allows',\n",
       " 'computers',\n",
       " 'understand',\n",
       " 'process',\n",
       " 'human',\n",
       " 'language',\n",
       " 'spoken',\n",
       " 'written',\n",
       " 'NLP',\n",
       " 'around',\n",
       " '50',\n",
       " 'years',\n",
       " 'many',\n",
       " 'real',\n",
       " 'world',\n",
       " 'applications',\n",
       " 'including',\n",
       " 'Search',\n",
       " 'engines',\n",
       " 'Business',\n",
       " 'intelligence',\n",
       " 'Medical',\n",
       " 'research',\n",
       " 'Language',\n",
       " 'translation',\n",
       " 'Chatbots']"
      ]
     },
     "execution_count": 44,
     "metadata": {},
     "output_type": "execute_result"
    }
   ],
   "source": [
    "filtered_data"
   ]
  },
  {
   "cell_type": "markdown",
   "id": "cfc821b6",
   "metadata": {},
   "source": [
    "## Section 3\n",
    "### Stemming\n",
    "<p> Stemming is the process of removing a partr of a word, or reducing a word to its stem or root form. Stemmed word may not be a word in dictionary.</p>\n",
    "Types of Stemming in NLTK are,\n",
    "<ol> \n",
    "<li>Porter Stemmer</li>\n",
    "    <li>Snowball Stemmer</li>\n",
    "    <li>lancaster Stemmer</li>\n",
    "    <li>regex Stemmer</li>\n",
    "</ol>"
   ]
  },
  {
   "cell_type": "code",
   "execution_count": 45,
   "id": "919d194e",
   "metadata": {},
   "outputs": [],
   "source": [
    "# Porter Stemmer\n",
    "from nltk.stem import PorterStemmer"
   ]
  },
  {
   "cell_type": "code",
   "execution_count": 60,
   "id": "591e6777",
   "metadata": {},
   "outputs": [
    {
     "name": "stdout",
     "output_type": "stream",
     "text": [
      "generous --> gener\n",
      "generously --> gener\n",
      "generate --> gener\n",
      "generation --> gener\n",
      "general --> gener\n",
      "generalize --> gener\n",
      "eat --> eat\n",
      "ate --> ate\n",
      "eats --> eat\n"
     ]
    }
   ],
   "source": [
    "porter = PorterStemmer()\n",
    "words = ['generous', 'generously', 'generate', 'generation', 'general', 'generalize', 'eat', 'ate', 'eats']\n",
    "for word in words:\n",
    "    print(f\"{word} --> {porter.stem(word)}\")"
   ]
  },
  {
   "cell_type": "code",
   "execution_count": 61,
   "id": "64c91ac7",
   "metadata": {},
   "outputs": [
    {
     "name": "stdout",
     "output_type": "stream",
     "text": [
      "generous --> generous\n",
      "generously --> generous\n",
      "generate --> generat\n",
      "generation --> generat\n",
      "general --> general\n",
      "generalize --> general\n",
      "eat --> eat\n",
      "ate --> ate\n",
      "eats --> eat\n"
     ]
    }
   ],
   "source": [
    "# Snowball Stemmer\n",
    "from nltk.stem import SnowballStemmer\n",
    "snowball = SnowballStemmer(language = 'english')\n",
    "for word in words:\n",
    "    print(f\"{word} --> {snowball.stem(word)}\")"
   ]
  },
  {
   "cell_type": "code",
   "execution_count": 62,
   "id": "a75a9bb3",
   "metadata": {},
   "outputs": [
    {
     "name": "stdout",
     "output_type": "stream",
     "text": [
      "generous --> gen\n",
      "generously --> gen\n",
      "generate --> gen\n",
      "generation --> gen\n",
      "general --> gen\n",
      "generalize --> gen\n",
      "eat --> eat\n",
      "ate --> at\n",
      "eats --> eat\n"
     ]
    }
   ],
   "source": [
    "# Lancaster Stemmer\n",
    "from nltk.stem import LancasterStemmer\n",
    "lan = LancasterStemmer()\n",
    "for word in words:\n",
    "    print(f\"{word} --> {lan.stem(word)}\")"
   ]
  },
  {
   "cell_type": "code",
   "execution_count": 64,
   "id": "3a99dbdb",
   "metadata": {},
   "outputs": [
    {
     "name": "stdout",
     "output_type": "stream",
     "text": [
      "generous --> generou\n",
      "generously --> generously\n",
      "generate --> generat\n",
      "generation --> generation\n",
      "general --> general\n",
      "generalize --> generaliz\n",
      "eat --> eat\n",
      "ate --> ate\n",
      "eats --> eat\n"
     ]
    }
   ],
   "source": [
    "# regular expression stemmer\n",
    "from nltk.stem import RegexpStemmer\n",
    "regexp = RegexpStemmer('ing$|s$|e$|able$', min=4)\n",
    "for word in words:\n",
    "    print(f\"{word} --> {regexp.stem(word)}\")"
   ]
  },
  {
   "cell_type": "markdown",
   "id": "a15e3d7d",
   "metadata": {},
   "source": [
    "## Section 4\n",
    "### Lemmatization\n",
    "<p> Converting the words into the root word using Parts of Speech and context as a base. Root word will be a valid word in a dictionary</p>"
   ]
  },
  {
   "cell_type": "code",
   "execution_count": 65,
   "id": "4e5e145e",
   "metadata": {},
   "outputs": [],
   "source": [
    "from nltk.stem import WordNetLemmatizer"
   ]
  },
  {
   "cell_type": "code",
   "execution_count": 66,
   "id": "fe6ee0db",
   "metadata": {},
   "outputs": [
    {
     "name": "stderr",
     "output_type": "stream",
     "text": [
      "[nltk_data] Downloading package wordnet to\n",
      "[nltk_data]     C:\\Users\\premk\\AppData\\Roaming\\nltk_data...\n",
      "[nltk_data]   Package wordnet is already up-to-date!\n",
      "[nltk_data] Downloading package omw-1.4 to\n",
      "[nltk_data]     C:\\Users\\premk\\AppData\\Roaming\\nltk_data...\n",
      "[nltk_data]   Package omw-1.4 is already up-to-date!\n"
     ]
    },
    {
     "data": {
      "text/plain": [
       "True"
      ]
     },
     "execution_count": 66,
     "metadata": {},
     "output_type": "execute_result"
    }
   ],
   "source": [
    "nltk.download('wordnet')\n",
    "nltk.download('omw-1.4')"
   ]
  },
  {
   "cell_type": "code",
   "execution_count": 67,
   "id": "fc09d5ad",
   "metadata": {},
   "outputs": [
    {
     "name": "stdout",
     "output_type": "stream",
     "text": [
      "generous --> generous\n",
      "generously --> generously\n",
      "generate --> generate\n",
      "generation --> generation\n",
      "general --> general\n",
      "generalize --> generalize\n",
      "eat --> eat\n",
      "ate --> ate\n",
      "eats --> eats\n"
     ]
    }
   ],
   "source": [
    "lemma = WordNetLemmatizer()\n",
    "for word in words:\n",
    "    print(f\"{word} --> {lemma.lemmatize(word)}\")"
   ]
  },
  {
   "cell_type": "code",
   "execution_count": null,
   "id": "4c862be5",
   "metadata": {},
   "outputs": [],
   "source": []
  }
 ],
 "metadata": {
  "kernelspec": {
   "display_name": "Python 3 (ipykernel)",
   "language": "python",
   "name": "python3"
  },
  "language_info": {
   "codemirror_mode": {
    "name": "ipython",
    "version": 3
   },
   "file_extension": ".py",
   "mimetype": "text/x-python",
   "name": "python",
   "nbconvert_exporter": "python",
   "pygments_lexer": "ipython3",
   "version": "3.11.5"
  }
 },
 "nbformat": 4,
 "nbformat_minor": 5
}
